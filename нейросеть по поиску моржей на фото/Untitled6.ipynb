{
  "nbformat": 4,
  "nbformat_minor": 0,
  "metadata": {
    "colab": {
      "name": "Untitled6.ipynb",
      "provenance": [],
      "collapsed_sections": []
    },
    "kernelspec": {
      "name": "python3",
      "display_name": "Python 3"
    },
    "language_info": {
      "name": "python"
    },
    "accelerator": "GPU"
  },
  "cells": [
    {
      "cell_type": "code",
      "execution_count": 19,
      "metadata": {
        "colab": {
          "base_uri": "https://localhost:8080/"
        },
        "id": "M4u-CD2KT6ra",
        "outputId": "377a9228-4dba-47b1-b243-1323696602aa"
      },
      "outputs": [
        {
          "output_type": "stream",
          "name": "stdout",
          "text": [
            "Cloning into 'POW-Digital_breakthrough_2022'...\n",
            "remote: Enumerating objects: 665, done.\u001b[K\n",
            "remote: Counting objects:   0% (1/263)\u001b[K\rremote: Counting objects:   1% (3/263)\u001b[K\rremote: Counting objects:   2% (6/263)\u001b[K\rremote: Counting objects:   3% (8/263)\u001b[K\rremote: Counting objects:   4% (11/263)\u001b[K\rremote: Counting objects:   5% (14/263)\u001b[K\rremote: Counting objects:   6% (16/263)\u001b[K\rremote: Counting objects:   7% (19/263)\u001b[K\rremote: Counting objects:   8% (22/263)\u001b[K\rremote: Counting objects:   9% (24/263)\u001b[K\rremote: Counting objects:  10% (27/263)\u001b[K\rremote: Counting objects:  11% (29/263)\u001b[K\rremote: Counting objects:  12% (32/263)\u001b[K\rremote: Counting objects:  13% (35/263)\u001b[K\rremote: Counting objects:  14% (37/263)\u001b[K\rremote: Counting objects:  15% (40/263)\u001b[K\rremote: Counting objects:  16% (43/263)\u001b[K\rremote: Counting objects:  17% (45/263)\u001b[K\rremote: Counting objects:  18% (48/263)\u001b[K\rremote: Counting objects:  19% (50/263)\u001b[K\rremote: Counting objects:  20% (53/263)\u001b[K\rremote: Counting objects:  21% (56/263)\u001b[K\rremote: Counting objects:  22% (58/263)\u001b[K\rremote: Counting objects:  23% (61/263)\u001b[K\rremote: Counting objects:  24% (64/263)\u001b[K\rremote: Counting objects:  25% (66/263)\u001b[K\rremote: Counting objects:  26% (69/263)\u001b[K\rremote: Counting objects:  27% (72/263)\u001b[K\rremote: Counting objects:  28% (74/263)\u001b[K\rremote: Counting objects:  29% (77/263)\u001b[K\rremote: Counting objects:  30% (79/263)\u001b[K\rremote: Counting objects:  31% (82/263)\u001b[K\rremote: Counting objects:  32% (85/263)\u001b[K\rremote: Counting objects:  33% (87/263)\u001b[K\rremote: Counting objects:  34% (90/263)\u001b[K\rremote: Counting objects:  35% (93/263)\u001b[K\rremote: Counting objects:  36% (95/263)\u001b[K\rremote: Counting objects:  37% (98/263)\u001b[K\rremote: Counting objects:  38% (100/263)\u001b[K\rremote: Counting objects:  39% (103/263)\u001b[K\rremote: Counting objects:  40% (106/263)\u001b[K\rremote: Counting objects:  41% (108/263)\u001b[K\rremote: Counting objects:  42% (111/263)\u001b[K\rremote: Counting objects:  43% (114/263)\u001b[K\rremote: Counting objects:  44% (116/263)\u001b[K\rremote: Counting objects:  45% (119/263)\u001b[K\rremote: Counting objects:  46% (121/263)\u001b[K\rremote: Counting objects:  47% (124/263)\u001b[K\rremote: Counting objects:  48% (127/263)\u001b[K\rremote: Counting objects:  49% (129/263)\u001b[K\rremote: Counting objects:  50% (132/263)\u001b[K\rremote: Counting objects:  51% (135/263)\u001b[K\rremote: Counting objects:  52% (137/263)\u001b[K\rremote: Counting objects:  53% (140/263)\u001b[K\rremote: Counting objects:  54% (143/263)\u001b[K\rremote: Counting objects:  55% (145/263)\u001b[K\rremote: Counting objects:  56% (148/263)\u001b[K\rremote: Counting objects:  57% (150/263)\u001b[K\rremote: Counting objects:  58% (153/263)\u001b[K\rremote: Counting objects:  59% (156/263)\u001b[K\rremote: Counting objects:  60% (158/263)\u001b[K\rremote: Counting objects:  61% (161/263)\u001b[K\rremote: Counting objects:  62% (164/263)\u001b[K\rremote: Counting objects:  63% (166/263)\u001b[K\rremote: Counting objects:  64% (169/263)\u001b[K\rremote: Counting objects:  65% (171/263)\u001b[K\rremote: Counting objects:  66% (174/263)\u001b[K\rremote: Counting objects:  67% (177/263)\u001b[K\rremote: Counting objects:  68% (179/263)\u001b[K\rremote: Counting objects:  69% (182/263)\u001b[K\rremote: Counting objects:  70% (185/263)\u001b[K\rremote: Counting objects:  71% (187/263)\u001b[K\rremote: Counting objects:  72% (190/263)\u001b[K\rremote: Counting objects:  73% (192/263)\u001b[K\rremote: Counting objects:  74% (195/263)\u001b[K\rremote: Counting objects:  75% (198/263)\u001b[K\rremote: Counting objects:  76% (200/263)\u001b[K\rremote: Counting objects:  77% (203/263)\u001b[K\rremote: Counting objects:  78% (206/263)\u001b[K\rremote: Counting objects:  79% (208/263)\u001b[K\rremote: Counting objects:  80% (211/263)\u001b[K\rremote: Counting objects:  81% (214/263)\u001b[K\rremote: Counting objects:  82% (216/263)\u001b[K\rremote: Counting objects:  83% (219/263)\u001b[K\rremote: Counting objects:  84% (221/263)\u001b[K\rremote: Counting objects:  85% (224/263)\u001b[K\rremote: Counting objects:  86% (227/263)\u001b[K\rremote: Counting objects:  87% (229/263)\u001b[K\rremote: Counting objects:  88% (232/263)\u001b[K\rremote: Counting objects:  89% (235/263)\u001b[K\rremote: Counting objects:  90% (237/263)\u001b[K\rremote: Counting objects:  91% (240/263)\u001b[K\rremote: Counting objects:  92% (242/263)\u001b[K\rremote: Counting objects:  93% (245/263)\u001b[K\rremote: Counting objects:  94% (248/263)\u001b[K\rremote: Counting objects:  95% (250/263)\u001b[K\rremote: Counting objects:  96% (253/263)\u001b[K\rremote: Counting objects:  97% (256/263)\u001b[K\rremote: Counting objects:  98% (258/263)\u001b[K\rremote: Counting objects:  99% (261/263)\u001b[K\rremote: Counting objects: 100% (263/263)\u001b[K\rremote: Counting objects: 100% (263/263), done.\u001b[K\n",
            "remote: Compressing objects: 100% (135/135), done.\u001b[K\n",
            "remote: Total 665 (delta 131), reused 228 (delta 108), pack-reused 402\u001b[K\n",
            "Receiving objects: 100% (665/665), 1.03 GiB | 50.17 MiB/s, done.\n",
            "Resolving deltas: 100% (163/163), done.\n",
            "Checking out files: 100% (211/211), done.\n",
            "Cloning into 'yolov5'...\n",
            "remote: Enumerating objects: 12093, done.\u001b[K\n",
            "remote: Counting objects: 100% (46/46), done.\u001b[K\n",
            "remote: Compressing objects: 100% (39/39), done.\u001b[K\n",
            "remote: Total 12093 (delta 23), reused 15 (delta 7), pack-reused 12047\u001b[K\n",
            "Receiving objects: 100% (12093/12093), 11.90 MiB | 32.67 MiB/s, done.\n",
            "Resolving deltas: 100% (8379/8379), done.\n",
            "/content/yolov5/yolov5/yolov5\n",
            "Looking in indexes: https://pypi.org/simple, https://us-python.pkg.dev/colab-wheels/public/simple/\n",
            "Requirement already satisfied: matplotlib>=3.2.2 in /usr/local/lib/python3.7/dist-packages (from -r requirements.txt (line 5)) (3.2.2)\n",
            "Requirement already satisfied: numpy>=1.18.5 in /usr/local/lib/python3.7/dist-packages (from -r requirements.txt (line 6)) (1.21.6)\n",
            "Requirement already satisfied: opencv-python>=4.1.1 in /usr/local/lib/python3.7/dist-packages (from -r requirements.txt (line 7)) (4.1.2.30)\n",
            "Requirement already satisfied: Pillow>=7.1.2 in /usr/local/lib/python3.7/dist-packages (from -r requirements.txt (line 8)) (7.1.2)\n",
            "Requirement already satisfied: PyYAML>=5.3.1 in /usr/local/lib/python3.7/dist-packages (from -r requirements.txt (line 9)) (6.0)\n",
            "Requirement already satisfied: requests>=2.23.0 in /usr/local/lib/python3.7/dist-packages (from -r requirements.txt (line 10)) (2.23.0)\n",
            "Requirement already satisfied: scipy>=1.4.1 in /usr/local/lib/python3.7/dist-packages (from -r requirements.txt (line 11)) (1.4.1)\n",
            "Requirement already satisfied: torch>=1.7.0 in /usr/local/lib/python3.7/dist-packages (from -r requirements.txt (line 12)) (1.11.0+cu113)\n",
            "Requirement already satisfied: torchvision>=0.8.1 in /usr/local/lib/python3.7/dist-packages (from -r requirements.txt (line 13)) (0.12.0+cu113)\n",
            "Requirement already satisfied: tqdm>=4.41.0 in /usr/local/lib/python3.7/dist-packages (from -r requirements.txt (line 14)) (4.64.0)\n",
            "Requirement already satisfied: protobuf<=3.20.1 in /usr/local/lib/python3.7/dist-packages (from -r requirements.txt (line 15)) (3.17.3)\n",
            "Requirement already satisfied: tensorboard>=2.4.1 in /usr/local/lib/python3.7/dist-packages (from -r requirements.txt (line 18)) (2.8.0)\n",
            "Requirement already satisfied: pandas>=1.1.4 in /usr/local/lib/python3.7/dist-packages (from -r requirements.txt (line 22)) (1.3.5)\n",
            "Requirement already satisfied: seaborn>=0.11.0 in /usr/local/lib/python3.7/dist-packages (from -r requirements.txt (line 23)) (0.11.2)\n",
            "Requirement already satisfied: ipython in /usr/local/lib/python3.7/dist-packages (from -r requirements.txt (line 35)) (5.5.0)\n",
            "Requirement already satisfied: psutil in /usr/local/lib/python3.7/dist-packages (from -r requirements.txt (line 36)) (5.4.8)\n",
            "Requirement already satisfied: thop in /usr/local/lib/python3.7/dist-packages (from -r requirements.txt (line 37)) (0.0.31.post2005241907)\n",
            "Requirement already satisfied: pyparsing!=2.0.4,!=2.1.2,!=2.1.6,>=2.0.1 in /usr/local/lib/python3.7/dist-packages (from matplotlib>=3.2.2->-r requirements.txt (line 5)) (3.0.9)\n",
            "Requirement already satisfied: kiwisolver>=1.0.1 in /usr/local/lib/python3.7/dist-packages (from matplotlib>=3.2.2->-r requirements.txt (line 5)) (1.4.2)\n",
            "Requirement already satisfied: cycler>=0.10 in /usr/local/lib/python3.7/dist-packages (from matplotlib>=3.2.2->-r requirements.txt (line 5)) (0.11.0)\n",
            "Requirement already satisfied: python-dateutil>=2.1 in /usr/local/lib/python3.7/dist-packages (from matplotlib>=3.2.2->-r requirements.txt (line 5)) (2.8.2)\n",
            "Requirement already satisfied: chardet<4,>=3.0.2 in /usr/local/lib/python3.7/dist-packages (from requests>=2.23.0->-r requirements.txt (line 10)) (3.0.4)\n",
            "Requirement already satisfied: idna<3,>=2.5 in /usr/local/lib/python3.7/dist-packages (from requests>=2.23.0->-r requirements.txt (line 10)) (2.10)\n",
            "Requirement already satisfied: urllib3!=1.25.0,!=1.25.1,<1.26,>=1.21.1 in /usr/local/lib/python3.7/dist-packages (from requests>=2.23.0->-r requirements.txt (line 10)) (1.24.3)\n",
            "Requirement already satisfied: certifi>=2017.4.17 in /usr/local/lib/python3.7/dist-packages (from requests>=2.23.0->-r requirements.txt (line 10)) (2022.5.18.1)\n",
            "Requirement already satisfied: typing-extensions in /usr/local/lib/python3.7/dist-packages (from torch>=1.7.0->-r requirements.txt (line 12)) (4.2.0)\n",
            "Requirement already satisfied: six>=1.9 in /usr/local/lib/python3.7/dist-packages (from protobuf<=3.20.1->-r requirements.txt (line 15)) (1.15.0)\n",
            "Requirement already satisfied: absl-py>=0.4 in /usr/local/lib/python3.7/dist-packages (from tensorboard>=2.4.1->-r requirements.txt (line 18)) (1.0.0)\n",
            "Requirement already satisfied: werkzeug>=0.11.15 in /usr/local/lib/python3.7/dist-packages (from tensorboard>=2.4.1->-r requirements.txt (line 18)) (1.0.1)\n",
            "Requirement already satisfied: markdown>=2.6.8 in /usr/local/lib/python3.7/dist-packages (from tensorboard>=2.4.1->-r requirements.txt (line 18)) (3.3.7)\n",
            "Requirement already satisfied: grpcio>=1.24.3 in /usr/local/lib/python3.7/dist-packages (from tensorboard>=2.4.1->-r requirements.txt (line 18)) (1.46.1)\n",
            "Requirement already satisfied: google-auth-oauthlib<0.5,>=0.4.1 in /usr/local/lib/python3.7/dist-packages (from tensorboard>=2.4.1->-r requirements.txt (line 18)) (0.4.6)\n",
            "Requirement already satisfied: setuptools>=41.0.0 in /usr/local/lib/python3.7/dist-packages (from tensorboard>=2.4.1->-r requirements.txt (line 18)) (57.4.0)\n",
            "Requirement already satisfied: tensorboard-plugin-wit>=1.6.0 in /usr/local/lib/python3.7/dist-packages (from tensorboard>=2.4.1->-r requirements.txt (line 18)) (1.8.1)\n",
            "Requirement already satisfied: wheel>=0.26 in /usr/local/lib/python3.7/dist-packages (from tensorboard>=2.4.1->-r requirements.txt (line 18)) (0.37.1)\n",
            "Requirement already satisfied: tensorboard-data-server<0.7.0,>=0.6.0 in /usr/local/lib/python3.7/dist-packages (from tensorboard>=2.4.1->-r requirements.txt (line 18)) (0.6.1)\n",
            "Requirement already satisfied: google-auth<3,>=1.6.3 in /usr/local/lib/python3.7/dist-packages (from tensorboard>=2.4.1->-r requirements.txt (line 18)) (1.35.0)\n",
            "Requirement already satisfied: pytz>=2017.3 in /usr/local/lib/python3.7/dist-packages (from pandas>=1.1.4->-r requirements.txt (line 22)) (2022.1)\n",
            "Requirement already satisfied: pyasn1-modules>=0.2.1 in /usr/local/lib/python3.7/dist-packages (from google-auth<3,>=1.6.3->tensorboard>=2.4.1->-r requirements.txt (line 18)) (0.2.8)\n",
            "Requirement already satisfied: cachetools<5.0,>=2.0.0 in /usr/local/lib/python3.7/dist-packages (from google-auth<3,>=1.6.3->tensorboard>=2.4.1->-r requirements.txt (line 18)) (4.2.4)\n",
            "Requirement already satisfied: rsa<5,>=3.1.4 in /usr/local/lib/python3.7/dist-packages (from google-auth<3,>=1.6.3->tensorboard>=2.4.1->-r requirements.txt (line 18)) (4.8)\n",
            "Requirement already satisfied: requests-oauthlib>=0.7.0 in /usr/local/lib/python3.7/dist-packages (from google-auth-oauthlib<0.5,>=0.4.1->tensorboard>=2.4.1->-r requirements.txt (line 18)) (1.3.1)\n",
            "Requirement already satisfied: importlib-metadata>=4.4 in /usr/local/lib/python3.7/dist-packages (from markdown>=2.6.8->tensorboard>=2.4.1->-r requirements.txt (line 18)) (4.11.3)\n",
            "Requirement already satisfied: zipp>=0.5 in /usr/local/lib/python3.7/dist-packages (from importlib-metadata>=4.4->markdown>=2.6.8->tensorboard>=2.4.1->-r requirements.txt (line 18)) (3.8.0)\n",
            "Requirement already satisfied: pyasn1<0.5.0,>=0.4.6 in /usr/local/lib/python3.7/dist-packages (from pyasn1-modules>=0.2.1->google-auth<3,>=1.6.3->tensorboard>=2.4.1->-r requirements.txt (line 18)) (0.4.8)\n",
            "Requirement already satisfied: oauthlib>=3.0.0 in /usr/local/lib/python3.7/dist-packages (from requests-oauthlib>=0.7.0->google-auth-oauthlib<0.5,>=0.4.1->tensorboard>=2.4.1->-r requirements.txt (line 18)) (3.2.0)\n",
            "Requirement already satisfied: pickleshare in /usr/local/lib/python3.7/dist-packages (from ipython->-r requirements.txt (line 35)) (0.7.5)\n",
            "Requirement already satisfied: traitlets>=4.2 in /usr/local/lib/python3.7/dist-packages (from ipython->-r requirements.txt (line 35)) (5.1.1)\n",
            "Requirement already satisfied: decorator in /usr/local/lib/python3.7/dist-packages (from ipython->-r requirements.txt (line 35)) (4.4.2)\n",
            "Requirement already satisfied: pexpect in /usr/local/lib/python3.7/dist-packages (from ipython->-r requirements.txt (line 35)) (4.8.0)\n",
            "Requirement already satisfied: simplegeneric>0.8 in /usr/local/lib/python3.7/dist-packages (from ipython->-r requirements.txt (line 35)) (0.8.1)\n",
            "Requirement already satisfied: prompt-toolkit<2.0.0,>=1.0.4 in /usr/local/lib/python3.7/dist-packages (from ipython->-r requirements.txt (line 35)) (1.0.18)\n",
            "Requirement already satisfied: pygments in /usr/local/lib/python3.7/dist-packages (from ipython->-r requirements.txt (line 35)) (2.6.1)\n",
            "Requirement already satisfied: wcwidth in /usr/local/lib/python3.7/dist-packages (from prompt-toolkit<2.0.0,>=1.0.4->ipython->-r requirements.txt (line 35)) (0.2.5)\n",
            "Requirement already satisfied: ptyprocess>=0.5 in /usr/local/lib/python3.7/dist-packages (from pexpect->ipython->-r requirements.txt (line 35)) (0.7.0)\n"
          ]
        }
      ],
      "source": [
        "!git clone https://github.com/sampleeer/POW-Digital_breakthrough_2022.git\n",
        "!git clone https://github.com/ultralytics/yolov5\n",
        "\n",
        "%cd yolov5\n",
        "!pip install -r requirements.txt \n",
        "import torch\n",
        "\n",
        "import os\n",
        "from PIL import Image \n",
        "from IPython.display import clear_output\n",
        "\n",
        "\n"
      ]
    },
    {
      "cell_type": "code",
      "source": [
        ""
      ],
      "metadata": {
        "id": "gpjOCs2c2z_b"
      },
      "execution_count": null,
      "outputs": []
    },
    {
      "cell_type": "code",
      "source": [
        "!python train.py --img 1920 --batch 1 --epoch 7 --data /content/drive/MyDrive/dataset/pow.yaml --weights yolov5x.pt --name /content/drive/MyDrive/test "
      ],
      "metadata": {
        "colab": {
          "base_uri": "https://localhost:8080/"
        },
        "id": "PvLPfFybgqjp",
        "outputId": "fcfdca33-cb5d-4781-9add-f6f8ffc23937"
      },
      "execution_count": 28,
      "outputs": [
        {
          "output_type": "stream",
          "name": "stdout",
          "text": [
            "\u001b[34m\u001b[1mtrain: \u001b[0mweights=yolov5x.pt, cfg=, data=/content/drive/MyDrive/dataset/pow.yaml, hyp=data/hyps/hyp.scratch-low.yaml, epochs=7, batch_size=1, imgsz=1920, rect=False, resume=False, nosave=False, noval=False, noautoanchor=False, noplots=False, evolve=None, bucket=, cache=None, image_weights=False, device=, multi_scale=False, single_cls=False, optimizer=SGD, sync_bn=False, workers=8, project=runs/train, name=/content/drive/MyDrive/test, exist_ok=False, quad=False, cos_lr=False, label_smoothing=0.0, patience=100, freeze=[0], save_period=-1, local_rank=-1, entity=None, upload_dataset=False, bbox_interval=-1, artifact_alias=latest\n",
            "\u001b[34m\u001b[1mgithub: \u001b[0mup to date with https://github.com/ultralytics/yolov5 ✅\n",
            "YOLOv5 🚀 v6.1-234-gd490bdd Python-3.7.13 torch-1.11.0+cu113 CUDA:0 (Tesla T4, 15110MiB)\n",
            "\n",
            "\u001b[34m\u001b[1mhyperparameters: \u001b[0mlr0=0.01, lrf=0.01, momentum=0.937, weight_decay=0.0005, warmup_epochs=3.0, warmup_momentum=0.8, warmup_bias_lr=0.1, box=0.05, cls=0.5, cls_pw=1.0, obj=1.0, obj_pw=1.0, iou_t=0.2, anchor_t=4.0, fl_gamma=0.0, hsv_h=0.015, hsv_s=0.7, hsv_v=0.4, degrees=0.0, translate=0.1, scale=0.5, shear=0.0, perspective=0.0, flipud=0.0, fliplr=0.5, mosaic=1.0, mixup=0.0, copy_paste=0.0\n",
            "\u001b[34m\u001b[1mWeights & Biases: \u001b[0mrun 'pip install wandb' to automatically track and visualize YOLOv5 🚀 runs (RECOMMENDED)\n",
            "\u001b[34m\u001b[1mTensorBoard: \u001b[0mStart with 'tensorboard --logdir /content/drive/MyDrive', view at http://localhost:6006/\n",
            "Overriding model.yaml nc=80 with nc=1\n",
            "\n",
            "                 from  n    params  module                                  arguments                     \n",
            "  0                -1  1      8800  models.common.Conv                      [3, 80, 6, 2, 2]              \n",
            "  1                -1  1    115520  models.common.Conv                      [80, 160, 3, 2]               \n",
            "  2                -1  4    309120  models.common.C3                        [160, 160, 4]                 \n",
            "  3                -1  1    461440  models.common.Conv                      [160, 320, 3, 2]              \n",
            "  4                -1  8   2259200  models.common.C3                        [320, 320, 8]                 \n",
            "  5                -1  1   1844480  models.common.Conv                      [320, 640, 3, 2]              \n",
            "  6                -1 12  13125120  models.common.C3                        [640, 640, 12]                \n",
            "  7                -1  1   7375360  models.common.Conv                      [640, 1280, 3, 2]             \n",
            "  8                -1  4  19676160  models.common.C3                        [1280, 1280, 4]               \n",
            "  9                -1  1   4099840  models.common.SPPF                      [1280, 1280, 5]               \n",
            " 10                -1  1    820480  models.common.Conv                      [1280, 640, 1, 1]             \n",
            " 11                -1  1         0  torch.nn.modules.upsampling.Upsample    [None, 2, 'nearest']          \n",
            " 12           [-1, 6]  1         0  models.common.Concat                    [1]                           \n",
            " 13                -1  4   5332480  models.common.C3                        [1280, 640, 4, False]         \n",
            " 14                -1  1    205440  models.common.Conv                      [640, 320, 1, 1]              \n",
            " 15                -1  1         0  torch.nn.modules.upsampling.Upsample    [None, 2, 'nearest']          \n",
            " 16           [-1, 4]  1         0  models.common.Concat                    [1]                           \n",
            " 17                -1  4   1335040  models.common.C3                        [640, 320, 4, False]          \n",
            " 18                -1  1    922240  models.common.Conv                      [320, 320, 3, 2]              \n",
            " 19          [-1, 14]  1         0  models.common.Concat                    [1]                           \n",
            " 20                -1  4   4922880  models.common.C3                        [640, 640, 4, False]          \n",
            " 21                -1  1   3687680  models.common.Conv                      [640, 640, 3, 2]              \n",
            " 22          [-1, 10]  1         0  models.common.Concat                    [1]                           \n",
            " 23                -1  4  19676160  models.common.C3                        [1280, 1280, 4, False]        \n",
            " 24      [17, 20, 23]  1     40374  models.yolo.Detect                      [1, [[10, 13, 16, 30, 33, 23], [30, 61, 62, 45, 59, 119], [116, 90, 156, 198, 373, 326]], [320, 640, 1280]]\n",
            "Model summary: 567 layers, 86217814 parameters, 86217814 gradients, 204.2 GFLOPs\n",
            "\n",
            "Transferred 739/745 items from yolov5x.pt\n",
            "\u001b[34m\u001b[1mAMP: \u001b[0mchecks passed ✅\n",
            "Scaled weight_decay = 0.0005\n",
            "\u001b[34m\u001b[1moptimizer:\u001b[0m SGD with parameter groups 123 weight (no decay), 126 weight, 126 bias\n",
            "\u001b[34m\u001b[1malbumentations: \u001b[0mversion 1.0.3 required by YOLOv5, but version 0.1.12 is currently installed\n",
            "\u001b[34m\u001b[1mtrain: \u001b[0mScanning '/content/drive/MyDrive/dataset/labels/train.cache' images and labels... 170 found, 0 missing, 0 empty, 0 corrupt: 100% 170/170 [00:00<?, ?it/s]\n",
            "\u001b[34m\u001b[1mval: \u001b[0mScanning '/content/drive/MyDrive/dataset/labels/valid.cache' images and labels... 30 found, 0 missing, 0 empty, 0 corrupt: 100% 30/30 [00:00<?, ?it/s]\n",
            "Plotting labels to /content/drive/MyDrive/test5/labels.jpg... \n",
            "\n",
            "\u001b[34m\u001b[1mAutoAnchor: \u001b[0m5.72 anchors/target, 1.000 Best Possible Recall (BPR). Current anchors are a good fit to dataset ✅\n",
            "Image sizes 1920 train, 1920 val\n",
            "Using 0 dataloader workers\n",
            "Logging results to \u001b[1m/content/drive/MyDrive/test5\u001b[0m\n",
            "Starting training for 7 epochs...\n",
            "\n",
            "     Epoch   gpu_mem       box       obj       cls    labels  img_size\n",
            "       0/6     14.1G    0.1123     1.802         0       240      1920: 100% 170/170 [05:07<00:00,  1.81s/it]\n",
            "               Class     Images     Labels          P          R     mAP@.5 mAP@.5:.95: 100% 15/15 [00:07<00:00,  2.13it/s]\n",
            "                 all         30       5573      0.406       0.48      0.314      0.089\n",
            "\n",
            "     Epoch   gpu_mem       box       obj       cls    labels  img_size\n",
            "       1/6     8.71G    0.1063      3.18         0      1984      1920: 100% 170/170 [05:03<00:00,  1.78s/it]\n",
            "               Class     Images     Labels          P          R     mAP@.5 mAP@.5:.95: 100% 15/15 [00:06<00:00,  2.25it/s]\n",
            "                 all         30       5573     0.0683      0.109     0.0387     0.0105\n",
            "\n",
            "     Epoch   gpu_mem       box       obj       cls    labels  img_size\n",
            "       2/6     8.71G    0.1079     7.004         0       173      1920: 100% 170/170 [05:03<00:00,  1.79s/it]\n",
            "               Class     Images     Labels          P          R     mAP@.5 mAP@.5:.95: 100% 15/15 [00:06<00:00,  2.20it/s]\n",
            "                 all         30       5573    0.00489     0.0079    0.00246   0.000676\n",
            "\n",
            "     Epoch   gpu_mem       box       obj       cls    labels  img_size\n",
            "       3/6     8.71G    0.1057      9.05         0       902      1920: 100% 170/170 [05:04<00:00,  1.79s/it]\n",
            "               Class     Images     Labels          P          R     mAP@.5 mAP@.5:.95: 100% 15/15 [00:06<00:00,  2.36it/s]\n",
            "                 all         30       5573    0.00278    0.00449     0.0014   0.000329\n",
            "\n",
            "     Epoch   gpu_mem       box       obj       cls    labels  img_size\n",
            "       4/6     8.71G    0.1067     9.036         0       938      1920: 100% 170/170 [05:03<00:00,  1.79s/it]\n",
            "               Class     Images     Labels          P          R     mAP@.5 mAP@.5:.95: 100% 15/15 [00:04<00:00,  3.12it/s]\n",
            "                 all         30          0          0          0          0          0\n",
            "\n",
            "     Epoch   gpu_mem       box       obj       cls    labels  img_size\n",
            "       5/6     8.71G     0.102     9.221         0       239      1920: 100% 170/170 [05:05<00:00,  1.80s/it]\n",
            "               Class     Images     Labels          P          R     mAP@.5 mAP@.5:.95: 100% 15/15 [00:04<00:00,  3.21it/s]\n",
            "                 all         30          0          0          0          0          0\n",
            "\n",
            "     Epoch   gpu_mem       box       obj       cls    labels  img_size\n",
            "       6/6     8.71G   0.09783     12.03         0       799      1920: 100% 170/170 [05:03<00:00,  1.78s/it]\n",
            "               Class     Images     Labels          P          R     mAP@.5 mAP@.5:.95: 100% 15/15 [00:05<00:00,  2.90it/s]\n",
            "                 all         30          0          0          0          0          0\n",
            "\n",
            "7 epochs completed in 0.611 hours.\n",
            "Optimizer stripped from /content/drive/MyDrive/test5/weights/last.pt, 174.3MB\n",
            "Optimizer stripped from /content/drive/MyDrive/test5/weights/best.pt, 174.3MB\n",
            "\n",
            "Validating /content/drive/MyDrive/test5/weights/best.pt...\n",
            "Fusing layers... \n",
            "Model summary: 444 layers, 86173414 parameters, 0 gradients, 204.0 GFLOPs\n",
            "               Class     Images     Labels          P          R     mAP@.5 mAP@.5:.95:  13% 2/15 [00:02<00:19,  1.49s/it]WARNING: NMS time limit 0.360s exceeded\n",
            "               Class     Images     Labels          P          R     mAP@.5 mAP@.5:.95: 100% 15/15 [00:13<00:00,  1.10it/s]\n",
            "                 all         30       5573      0.407      0.481      0.315      0.089\n",
            "Results saved to \u001b[1m/content/drive/MyDrive/test5\u001b[0m\n"
          ]
        }
      ]
    },
    {
      "cell_type": "code",
      "source": [
        "from google.colab import files\n",
        "files.download('./runs/train/exp/weights/best.pt')"
      ],
      "metadata": {
        "id": "m5dJcC1P5Tj3"
      },
      "execution_count": null,
      "outputs": []
    },
    {
      "cell_type": "markdown",
      "source": [
        ""
      ],
      "metadata": {
        "id": "GuYduuDtNVNt"
      }
    },
    {
      "cell_type": "code",
      "source": [
        "!python detect.py --img 1920 --weights /content/drive/MyDrive/test2/weights/best.pt --name /content/drive/MyDrive/test --save-txt --conf-thres 0.15 --source /content/drive/MyDrive/dataset/images/valid"
      ],
      "metadata": {
        "colab": {
          "base_uri": "https://localhost:8080/"
        },
        "id": "SNnHtO4vbQi9",
        "outputId": "1babd533-970f-4f12-849a-7006d4a93887"
      },
      "execution_count": 27,
      "outputs": [
        {
          "output_type": "stream",
          "name": "stdout",
          "text": [
            "\u001b[34m\u001b[1mdetect: \u001b[0mweights=['/content/drive/MyDrive/test2/weights/best.pt'], source=/content/drive/MyDrive/dataset/images/valid, data=data/coco128.yaml, imgsz=[1920, 1920], conf_thres=0.15, iou_thres=0.45, max_det=1000, device=, view_img=False, save_txt=True, save_conf=False, save_crop=False, nosave=False, classes=None, agnostic_nms=False, augment=False, visualize=False, update=False, project=runs/detect, name=/content/drive/MyDrive/test, exist_ok=False, line_thickness=3, hide_labels=False, hide_conf=False, half=False, dnn=False\n",
            "YOLOv5 🚀 v6.1-234-gd490bdd Python-3.7.13 torch-1.11.0+cu113 CUDA:0 (Tesla T4, 15110MiB)\n",
            "\n",
            "Fusing layers... \n",
            "Model summary: 444 layers, 86173414 parameters, 0 gradients, 204.0 GFLOPs\n",
            "image 1/30 /content/drive/MyDrive/dataset/images/valid/104.jpg: 1088x1920 1000 morzhs, Done. (0.240s)\n",
            "image 2/30 /content/drive/MyDrive/dataset/images/valid/11.jpg: 1088x1920 584 morzhs, Done. (0.340s)\n",
            "image 3/30 /content/drive/MyDrive/dataset/images/valid/113.jpg: 1088x1920 1000 morzhs, Done. (0.293s)\n",
            "image 4/30 /content/drive/MyDrive/dataset/images/valid/128.jpg: 1088x1920 1000 morzhs, Done. (0.299s)\n",
            "image 5/30 /content/drive/MyDrive/dataset/images/valid/13.jpg: 1088x1920 1000 morzhs, Done. (0.333s)\n",
            "image 6/30 /content/drive/MyDrive/dataset/images/valid/132.jpg: 1088x1920 994 morzhs, Done. (0.316s)\n",
            "image 7/30 /content/drive/MyDrive/dataset/images/valid/135.jpg: 1088x1920 315 morzhs, Done. (0.297s)\n",
            "image 8/30 /content/drive/MyDrive/dataset/images/valid/137.jpg: 1088x1920 1000 morzhs, Done. (0.234s)\n",
            "image 9/30 /content/drive/MyDrive/dataset/images/valid/17.jpg: 1088x1920 546 morzhs, Done. (0.340s)\n",
            "image 10/30 /content/drive/MyDrive/dataset/images/valid/190.jpg: 1088x1920 1000 morzhs, Done. (0.289s)\n",
            "image 11/30 /content/drive/MyDrive/dataset/images/valid/191.jpg: 1088x1920 1000 morzhs, Done. (0.316s)\n",
            "image 12/30 /content/drive/MyDrive/dataset/images/valid/199.jpg: 1088x1920 305 morzhs, Done. (0.330s)\n",
            "image 13/30 /content/drive/MyDrive/dataset/images/valid/20.jpg: 1088x1920 1000 morzhs, Done. (0.234s)\n",
            "image 14/30 /content/drive/MyDrive/dataset/images/valid/203.jpg: 1088x1920 1000 morzhs, Done. (0.337s)\n",
            "image 15/30 /content/drive/MyDrive/dataset/images/valid/206.jpg: 1088x1920 1000 morzhs, Done. (0.330s)\n",
            "image 16/30 /content/drive/MyDrive/dataset/images/valid/31.jpg: 1088x1920 304 morzhs, Done. (0.309s)\n",
            "image 17/30 /content/drive/MyDrive/dataset/images/valid/33.jpg: 1088x1920 765 morzhs, Done. (0.233s)\n",
            "image 18/30 /content/drive/MyDrive/dataset/images/valid/60.jpg: 1088x1920 1000 morzhs, Done. (0.297s)\n",
            "image 19/30 /content/drive/MyDrive/dataset/images/valid/61.jpg: 1088x1920 1000 morzhs, Done. (0.307s)\n",
            "image 20/30 /content/drive/MyDrive/dataset/images/valid/82.jpg: 1088x1920 1000 morzhs, Done. (0.323s)\n",
            "image 21/30 /content/drive/MyDrive/dataset/images/valid/83.jpg: 1088x1920 1000 morzhs, Done. (0.308s)\n",
            "image 22/30 /content/drive/MyDrive/dataset/images/valid/84.jpg: 1088x1920 1000 morzhs, Done. (0.323s)\n",
            "image 23/30 /content/drive/MyDrive/dataset/images/valid/85.jpg: 1088x1920 809 morzhs, Done. (0.333s)\n",
            "image 24/30 /content/drive/MyDrive/dataset/images/valid/DJI_0001 (2).jpg: 1440x1920 960 morzhs, Done. (0.383s)\n",
            "image 25/30 /content/drive/MyDrive/dataset/images/valid/DJI_0003 (2).jpg: 1440x1920 1000 morzhs, Done. (0.408s)\n",
            "image 26/30 /content/drive/MyDrive/dataset/images/valid/DJI_0003 (3).jpg: 1440x1920 1000 morzhs, Done. (0.383s)\n",
            "image 27/30 /content/drive/MyDrive/dataset/images/valid/DJI_0003 (4).jpg: 1440x1920 221 morzhs, Done. (0.408s)\n",
            "image 28/30 /content/drive/MyDrive/dataset/images/valid/DJI_0003 (5).jpg: 1440x1920 324 morzhs, Done. (0.324s)\n",
            "image 29/30 /content/drive/MyDrive/dataset/images/valid/DJI_0003 (6).jpg: 1440x1920 1000 morzhs, Done. (0.320s)\n",
            "image 30/30 /content/drive/MyDrive/dataset/images/valid/DJI_0003 (7).jpg: 1440x1920 504 morzhs, Done. (0.407s)\n",
            "Speed: 2.2ms pre-process, 319.7ms inference, 2.3ms NMS per image at shape (1, 3, 1920, 1920)\n",
            "Results saved to \u001b[1m/content/drive/MyDrive/test4\u001b[0m\n",
            "30 labels saved to /content/drive/MyDrive/test4/labels\n"
          ]
        }
      ]
    },
    {
      "cell_type": "code",
      "source": [
        "from utils.plots import plot_results \n",
        "\n",
        "plot_results('path/to/results.csv')  # plot 'results.csv' as 'results.png'"
      ],
      "metadata": {
        "id": "U6yCtD5zvuMZ"
      },
      "execution_count": null,
      "outputs": []
    }
  ]
}